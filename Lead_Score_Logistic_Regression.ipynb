{
 "cells": [
  {
   "attachments": {},
   "cell_type": "markdown",
   "metadata": {},
   "source": [
    "#### Problem Statement\n",
    "An education company named X Education sells online courses to industry professionals. On any given day, many professionals who are interested in the courses land on their website and browse for courses.  although X Education gets a lot of leads, its lead conversion rate is very poor.To make this process more efficient, the company wishes to identify the most potential leads, also known as ‘Hot Leads’. If they successfully identify this set of leads, the lead conversion rate should go up as the sales team will now be focusing more on communicating with the potential leads rather than making calls to everyone"
   ]
  },
  {
   "attachments": {},
   "cell_type": "markdown",
   "metadata": {},
   "source": [
    "#### Goals of the Case Study\n",
    "\n",
    "Build a logistic regression model to assign a lead score between 0 and 100 to each of the leads which can be used by the company to target potential leads. A higher score would mean that the lead is hot, i.e. is most likely to convert whereas a lower score would mean that the lead is cold and will mostly not get converted.\n"
   ]
  },
  {
   "attachments": {},
   "cell_type": "markdown",
   "metadata": {},
   "source": [
    "#### Following below process to address this Business Problem\n",
    "- 1- Data Understanding \n",
    "     - Importing Data and Check Statistics\n",
    "- 2- Data Cleaning\n",
    "     - Check missing values/checking outliers and fix those by checking their statistics\n",
    "- 3- Exploratary Analysis\n",
    "     - Uni-Variate, Bi-Variate and Correlation or pair plots\n",
    "- 4- Data Preparation\n",
    "     - Convert in binary column and dummy variables creation \n",
    "     - Feature Scaling\n",
    "- 5- Build Model\n",
    "     - Split the data in train and test, features scaling, check correlation matrix,\n",
    "-    - Features Selection using RFE and manual\n",
    "- 7- Model Evaluation\n",
    "     - Confustion Matrix\n",
    "     - Accuracy , specificity, sensitivity, Precision and recall, ROC Curve\n",
    "8- Prediction of test Data\n",
    "     - Accuracy , specificity, sensitivity \n"
   ]
  },
  {
   "attachments": {},
   "cell_type": "markdown",
   "metadata": {},
   "source": [
    "### Data Understanding"
   ]
  },
  {
   "cell_type": "code",
   "execution_count": 3954,
   "metadata": {},
   "outputs": [],
   "source": [
    "# Suppressing Warnings\n",
    "import warnings\n",
    "warnings.filterwarnings('ignore')"
   ]
  },
  {
   "cell_type": "code",
   "execution_count": 3955,
   "metadata": {},
   "outputs": [],
   "source": [
    "# Import libraries \n",
    "import numpy as np\n",
    "import pandas as pd\n",
    "import matplotlib.pyplot as plt\n",
    "import seaborn as sns\n",
    "from matplotlib.pyplot import xticks\n",
    "%matplotlib inline\n"
   ]
  },
  {
   "attachments": {},
   "cell_type": "markdown",
   "metadata": {},
   "source": [
    "#### Read the csv file"
   ]
  },
  {
   "cell_type": "code",
   "execution_count": 3957,
   "metadata": {},
   "outputs": [],
   "source": [
    "# importing dataset in dataframe\n",
    "df= pd.read_csv(\"Leads.csv\")"
   ]
  },
  {
   "cell_type": "code",
   "execution_count": 3958,
   "metadata": {},
   "outputs": [
    {
     "data": {
      "text/html": [
       "<div>\n",
       "<style scoped>\n",
       "    .dataframe tbody tr th:only-of-type {\n",
       "        vertical-align: middle;\n",
       "    }\n",
       "\n",
       "    .dataframe tbody tr th {\n",
       "        vertical-align: top;\n",
       "    }\n",
       "\n",
       "    .dataframe thead th {\n",
       "        text-align: right;\n",
       "    }\n",
       "</style>\n",
       "<table border=\"1\" class=\"dataframe\">\n",
       "  <thead>\n",
       "    <tr style=\"text-align: right;\">\n",
       "      <th></th>\n",
       "      <th>Prospect ID</th>\n",
       "      <th>Lead Number</th>\n",
       "      <th>Lead Origin</th>\n",
       "      <th>Lead Source</th>\n",
       "      <th>Do Not Email</th>\n",
       "      <th>Do Not Call</th>\n",
       "      <th>Converted</th>\n",
       "      <th>TotalVisits</th>\n",
       "      <th>Total Time Spent on Website</th>\n",
       "      <th>Page Views Per Visit</th>\n",
       "      <th>...</th>\n",
       "      <th>Get updates on DM Content</th>\n",
       "      <th>Lead Profile</th>\n",
       "      <th>City</th>\n",
       "      <th>Asymmetrique Activity Index</th>\n",
       "      <th>Asymmetrique Profile Index</th>\n",
       "      <th>Asymmetrique Activity Score</th>\n",
       "      <th>Asymmetrique Profile Score</th>\n",
       "      <th>I agree to pay the amount through cheque</th>\n",
       "      <th>A free copy of Mastering The Interview</th>\n",
       "      <th>Last Notable Activity</th>\n",
       "    </tr>\n",
       "  </thead>\n",
       "  <tbody>\n",
       "    <tr>\n",
       "      <th>0</th>\n",
       "      <td>7927b2df-8bba-4d29-b9a2-b6e0beafe620</td>\n",
       "      <td>660737</td>\n",
       "      <td>API</td>\n",
       "      <td>Olark Chat</td>\n",
       "      <td>No</td>\n",
       "      <td>No</td>\n",
       "      <td>0</td>\n",
       "      <td>0.00</td>\n",
       "      <td>0</td>\n",
       "      <td>0.00</td>\n",
       "      <td>...</td>\n",
       "      <td>No</td>\n",
       "      <td>Select</td>\n",
       "      <td>Select</td>\n",
       "      <td>02.Medium</td>\n",
       "      <td>02.Medium</td>\n",
       "      <td>15.00</td>\n",
       "      <td>15.00</td>\n",
       "      <td>No</td>\n",
       "      <td>No</td>\n",
       "      <td>Modified</td>\n",
       "    </tr>\n",
       "    <tr>\n",
       "      <th>1</th>\n",
       "      <td>2a272436-5132-4136-86fa-dcc88c88f482</td>\n",
       "      <td>660728</td>\n",
       "      <td>API</td>\n",
       "      <td>Organic Search</td>\n",
       "      <td>No</td>\n",
       "      <td>No</td>\n",
       "      <td>0</td>\n",
       "      <td>5.00</td>\n",
       "      <td>674</td>\n",
       "      <td>2.50</td>\n",
       "      <td>...</td>\n",
       "      <td>No</td>\n",
       "      <td>Select</td>\n",
       "      <td>Select</td>\n",
       "      <td>02.Medium</td>\n",
       "      <td>02.Medium</td>\n",
       "      <td>15.00</td>\n",
       "      <td>15.00</td>\n",
       "      <td>No</td>\n",
       "      <td>No</td>\n",
       "      <td>Email Opened</td>\n",
       "    </tr>\n",
       "    <tr>\n",
       "      <th>2</th>\n",
       "      <td>8cc8c611-a219-4f35-ad23-fdfd2656bd8a</td>\n",
       "      <td>660727</td>\n",
       "      <td>Landing Page Submission</td>\n",
       "      <td>Direct Traffic</td>\n",
       "      <td>No</td>\n",
       "      <td>No</td>\n",
       "      <td>1</td>\n",
       "      <td>2.00</td>\n",
       "      <td>1532</td>\n",
       "      <td>2.00</td>\n",
       "      <td>...</td>\n",
       "      <td>No</td>\n",
       "      <td>Potential Lead</td>\n",
       "      <td>Mumbai</td>\n",
       "      <td>02.Medium</td>\n",
       "      <td>01.High</td>\n",
       "      <td>14.00</td>\n",
       "      <td>20.00</td>\n",
       "      <td>No</td>\n",
       "      <td>Yes</td>\n",
       "      <td>Email Opened</td>\n",
       "    </tr>\n",
       "    <tr>\n",
       "      <th>3</th>\n",
       "      <td>0cc2df48-7cf4-4e39-9de9-19797f9b38cc</td>\n",
       "      <td>660719</td>\n",
       "      <td>Landing Page Submission</td>\n",
       "      <td>Direct Traffic</td>\n",
       "      <td>No</td>\n",
       "      <td>No</td>\n",
       "      <td>0</td>\n",
       "      <td>1.00</td>\n",
       "      <td>305</td>\n",
       "      <td>1.00</td>\n",
       "      <td>...</td>\n",
       "      <td>No</td>\n",
       "      <td>Select</td>\n",
       "      <td>Mumbai</td>\n",
       "      <td>02.Medium</td>\n",
       "      <td>01.High</td>\n",
       "      <td>13.00</td>\n",
       "      <td>17.00</td>\n",
       "      <td>No</td>\n",
       "      <td>No</td>\n",
       "      <td>Modified</td>\n",
       "    </tr>\n",
       "    <tr>\n",
       "      <th>4</th>\n",
       "      <td>3256f628-e534-4826-9d63-4a8b88782852</td>\n",
       "      <td>660681</td>\n",
       "      <td>Landing Page Submission</td>\n",
       "      <td>Google</td>\n",
       "      <td>No</td>\n",
       "      <td>No</td>\n",
       "      <td>1</td>\n",
       "      <td>2.00</td>\n",
       "      <td>1428</td>\n",
       "      <td>1.00</td>\n",
       "      <td>...</td>\n",
       "      <td>No</td>\n",
       "      <td>Select</td>\n",
       "      <td>Mumbai</td>\n",
       "      <td>02.Medium</td>\n",
       "      <td>01.High</td>\n",
       "      <td>15.00</td>\n",
       "      <td>18.00</td>\n",
       "      <td>No</td>\n",
       "      <td>No</td>\n",
       "      <td>Modified</td>\n",
       "    </tr>\n",
       "  </tbody>\n",
       "</table>\n",
       "<p>5 rows × 37 columns</p>\n",
       "</div>"
      ],
      "text/plain": [
       "                            Prospect ID  Lead Number              Lead Origin  \\\n",
       "0  7927b2df-8bba-4d29-b9a2-b6e0beafe620       660737                      API   \n",
       "1  2a272436-5132-4136-86fa-dcc88c88f482       660728                      API   \n",
       "2  8cc8c611-a219-4f35-ad23-fdfd2656bd8a       660727  Landing Page Submission   \n",
       "3  0cc2df48-7cf4-4e39-9de9-19797f9b38cc       660719  Landing Page Submission   \n",
       "4  3256f628-e534-4826-9d63-4a8b88782852       660681  Landing Page Submission   \n",
       "\n",
       "      Lead Source Do Not Email Do Not Call  Converted  TotalVisits  \\\n",
       "0      Olark Chat           No          No          0         0.00   \n",
       "1  Organic Search           No          No          0         5.00   \n",
       "2  Direct Traffic           No          No          1         2.00   \n",
       "3  Direct Traffic           No          No          0         1.00   \n",
       "4          Google           No          No          1         2.00   \n",
       "\n",
       "   Total Time Spent on Website  Page Views Per Visit  ...  \\\n",
       "0                            0                  0.00  ...   \n",
       "1                          674                  2.50  ...   \n",
       "2                         1532                  2.00  ...   \n",
       "3                          305                  1.00  ...   \n",
       "4                         1428                  1.00  ...   \n",
       "\n",
       "  Get updates on DM Content    Lead Profile    City  \\\n",
       "0                        No          Select  Select   \n",
       "1                        No          Select  Select   \n",
       "2                        No  Potential Lead  Mumbai   \n",
       "3                        No          Select  Mumbai   \n",
       "4                        No          Select  Mumbai   \n",
       "\n",
       "  Asymmetrique Activity Index Asymmetrique Profile Index  \\\n",
       "0                   02.Medium                  02.Medium   \n",
       "1                   02.Medium                  02.Medium   \n",
       "2                   02.Medium                    01.High   \n",
       "3                   02.Medium                    01.High   \n",
       "4                   02.Medium                    01.High   \n",
       "\n",
       "  Asymmetrique Activity Score Asymmetrique Profile Score  \\\n",
       "0                       15.00                      15.00   \n",
       "1                       15.00                      15.00   \n",
       "2                       14.00                      20.00   \n",
       "3                       13.00                      17.00   \n",
       "4                       15.00                      18.00   \n",
       "\n",
       "  I agree to pay the amount through cheque  \\\n",
       "0                                       No   \n",
       "1                                       No   \n",
       "2                                       No   \n",
       "3                                       No   \n",
       "4                                       No   \n",
       "\n",
       "  A free copy of Mastering The Interview Last Notable Activity  \n",
       "0                                     No              Modified  \n",
       "1                                     No          Email Opened  \n",
       "2                                    Yes          Email Opened  \n",
       "3                                     No              Modified  \n",
       "4                                     No              Modified  \n",
       "\n",
       "[5 rows x 37 columns]"
      ]
     },
     "execution_count": 3958,
     "metadata": {},
     "output_type": "execute_result"
    }
   ],
   "source": [
    "# Check the data and columns        \n",
    "df.head()"
   ]
  },
  {
   "cell_type": "code",
   "execution_count": null,
   "metadata": {},
   "outputs": [],
   "source": [
    "# get the values of each columns to identify the binary, categorical and continuous column\n",
    "for col in df.columns:\n",
    "    print('-' * 10 + col + '-' * 10 , end='')\n",
    "    display(df[col].value_counts().head(10))"
   ]
  },
  {
   "attachments": {},
   "cell_type": "markdown",
   "metadata": {},
   "source": [
    "#### Checking the dataframe"
   ]
  },
  {
   "cell_type": "code",
   "execution_count": null,
   "metadata": {},
   "outputs": [],
   "source": [
    "#checking the dimension of data frame (shape of dataframe)\n",
    "df.shape"
   ]
  },
  {
   "cell_type": "code",
   "execution_count": null,
   "metadata": {},
   "outputs": [],
   "source": [
    "# checking the statstical information of data\n",
    "df.describe()"
   ]
  },
  {
   "cell_type": "code",
   "execution_count": null,
   "metadata": {},
   "outputs": [],
   "source": [
    "#checking the data type and null/no-null values (information about dataframe)\n",
    "df.info()"
   ]
  },
  {
   "attachments": {},
   "cell_type": "markdown",
   "metadata": {},
   "source": [
    "#### Data Cleaning"
   ]
  },
  {
   "attachments": {},
   "cell_type": "markdown",
   "metadata": {},
   "source": [
    "#### Checking for Missing Values and Imputing Them"
   ]
  },
  {
   "cell_type": "code",
   "execution_count": null,
   "metadata": {},
   "outputs": [],
   "source": [
    "# checking the missing values\n",
    "df.isnull().sum()"
   ]
  },
  {
   "cell_type": "code",
   "execution_count": null,
   "metadata": {},
   "outputs": [],
   "source": [
    "# Checking the percentage of missing values\n",
    "missing_data=round(100*(df.isnull().sum()/len(df.index)), 2)"
   ]
  },
  {
   "cell_type": "code",
   "execution_count": null,
   "metadata": {},
   "outputs": [],
   "source": [
    "#check those are having missing percentage\n",
    "missing_data[missing_data>0.00]"
   ]
  },
  {
   "attachments": {},
   "cell_type": "markdown",
   "metadata": {},
   "source": [
    "-Lead Source, TotalVisits, Page Views per visit and Last Activity is having less percentage so remove those rows"
   ]
  },
  {
   "cell_type": "code",
   "execution_count": null,
   "metadata": {},
   "outputs": [],
   "source": [
    "cols= [\"Lead Source\", \"TotalVisits\", \"Page Views Per Visit\", \"Last Activity\"]\n",
    "\n",
    "df = df[~df['Lead Source'].isnull()]\n",
    "df = df[~df['TotalVisits'].isnull()]\n",
    "df = df[~df['Page Views Per Visit'].isnull()]\n",
    "df = df[~df['Last Activity'].isnull()]"
   ]
  },
  {
   "cell_type": "code",
   "execution_count": null,
   "metadata": {},
   "outputs": [],
   "source": [
    "#again  Checking the percentage of missing values\n",
    "missing_data=round(100*(df.isnull().sum()/len(df.index)), 2)\n",
    "#check those are having missing percentage\n",
    "missing_data[missing_data>0.00]"
   ]
  },
  {
   "attachments": {},
   "cell_type": "markdown",
   "metadata": {},
   "source": [
    "#### Columns having more than 40% null values columns,we can remove those columns"
   ]
  },
  {
   "cell_type": "code",
   "execution_count": null,
   "metadata": {},
   "outputs": [],
   "source": [
    "# removing Lead Quality, Asymmetrique Activity Index,Asymmetrique Profile Index,Asymmetrique Activity Score\n",
    "# and Asymmetrique Profile Score\n",
    "df.drop([\"Lead Quality\", \"Asymmetrique Activity Index\",\"Asymmetrique Profile Index\",\"Asymmetrique Activity Score\", \"Asymmetrique Profile Score\"], axis=1, inplace=True)"
   ]
  },
  {
   "cell_type": "code",
   "execution_count": null,
   "metadata": {},
   "outputs": [],
   "source": [
    "# lets check for remaining columns\n",
    "#again  Checking the percentage of missing values\n",
    "missing_data=round(100*(df.isnull().sum()/len(df.index)), 2)\n",
    "#check those are having missing percentage\n",
    "missing_data[missing_data>0.00]"
   ]
  },
  {
   "attachments": {},
   "cell_type": "markdown",
   "metadata": {},
   "source": [
    "#### Lets plot this Country column"
   ]
  },
  {
   "cell_type": "code",
   "execution_count": null,
   "metadata": {},
   "outputs": [],
   "source": [
    "#check statstics of Country Column\n",
    "df.Country.describe()"
   ]
  },
  {
   "cell_type": "code",
   "execution_count": 3959,
   "metadata": {},
   "outputs": [
    {
     "data": {
      "text/plain": [
       "India                   6492\n",
       "United States             69\n",
       "United Arab Emirates      53\n",
       "Singapore                 24\n",
       "Saudi Arabia              21\n",
       "United Kingdom            15\n",
       "Australia                 13\n",
       "Qatar                     10\n",
       "Hong Kong                  7\n",
       "Bahrain                    7\n",
       "Oman                       6\n",
       "France                     6\n",
       "unknown                    5\n",
       "South Africa               4\n",
       "Nigeria                    4\n",
       "Germany                    4\n",
       "Kuwait                     4\n",
       "Canada                     4\n",
       "Sweden                     3\n",
       "China                      2\n",
       "Asia/Pacific Region        2\n",
       "Uganda                     2\n",
       "Bangladesh                 2\n",
       "Italy                      2\n",
       "Belgium                    2\n",
       "Netherlands                2\n",
       "Ghana                      2\n",
       "Philippines                2\n",
       "Russia                     1\n",
       "Switzerland                1\n",
       "Vietnam                    1\n",
       "Denmark                    1\n",
       "Tanzania                   1\n",
       "Liberia                    1\n",
       "Malaysia                   1\n",
       "Kenya                      1\n",
       "Sri Lanka                  1\n",
       "Indonesia                  1\n",
       "Name: Country, dtype: int64"
      ]
     },
     "execution_count": 3959,
     "metadata": {},
     "output_type": "execute_result"
    }
   ],
   "source": [
    "#check different values     \n",
    "df.Country.value_counts()"
   ]
  },
  {
   "cell_type": "code",
   "execution_count": null,
   "metadata": {},
   "outputs": [],
   "source": [
    "# plot the Country Column\n",
    "sns.countplot(df.Country)\n",
    "xticks(rotation = 90)\n",
    "plt.show()"
   ]
  },
  {
   "cell_type": "code",
   "execution_count": null,
   "metadata": {},
   "outputs": [],
   "source": [
    "# As most data is from India so we can impute the data as India in missing values\n",
    "df[\"Country\"]= df.Country.fillna(\"India\")\n",
    "df.Country.isnull().sum()"
   ]
  },
  {
   "cell_type": "code",
   "execution_count": null,
   "metadata": {},
   "outputs": [],
   "source": [
    "# As Mostly data from India Country only so this will give any inference as we can remove this column\n",
    "dropcols= [\"Country\"]"
   ]
  },
  {
   "attachments": {},
   "cell_type": "markdown",
   "metadata": {},
   "source": [
    "#### Lets do with specialization\n"
   ]
  },
  {
   "cell_type": "code",
   "execution_count": null,
   "metadata": {},
   "outputs": [],
   "source": [
    "#Statistical of Specialization Column\n",
    "df.Specialization.describe()"
   ]
  },
  {
   "cell_type": "code",
   "execution_count": null,
   "metadata": {},
   "outputs": [],
   "source": [
    "# check values of Specilization\n",
    "df.Specialization.value_counts()"
   ]
  },
  {
   "cell_type": "code",
   "execution_count": null,
   "metadata": {},
   "outputs": [],
   "source": [
    "# mostly are select so first replace select with na\n",
    "df.Specialization= df.Specialization.apply(lambda x: np.nan if x==\"Select\" else x )"
   ]
  },
  {
   "cell_type": "code",
   "execution_count": null,
   "metadata": {},
   "outputs": [],
   "source": [
    "#plot the Specilization Column\n",
    "sns.countplot(df.Specialization)\n",
    "xticks(rotation = 90)\n",
    "plt.show()"
   ]
  },
  {
   "cell_type": "code",
   "execution_count": null,
   "metadata": {},
   "outputs": [],
   "source": [
    "# Lets name it extra to nan columns in specialization\n",
    "df.Specialization=df.Specialization.fillna(\"Extra\")\n",
    "df.Specialization.isnull().sum()"
   ]
  },
  {
   "attachments": {},
   "cell_type": "markdown",
   "metadata": {},
   "source": [
    "#### How did you hear about X Education"
   ]
  },
  {
   "cell_type": "code",
   "execution_count": null,
   "metadata": {},
   "outputs": [],
   "source": [
    "#check Statstical description\n",
    "df['How did you hear about X Education'].describe()"
   ]
  },
  {
   "cell_type": "code",
   "execution_count": null,
   "metadata": {},
   "outputs": [],
   "source": [
    "#check values\n",
    "df['How did you hear about X Education'].value_counts()"
   ]
  },
  {
   "cell_type": "code",
   "execution_count": null,
   "metadata": {},
   "outputs": [],
   "source": [
    "# repalce select with nan first\n",
    "df['How did you hear about X Education'] = df['How did you hear about X Education'].apply(lambda x : \"Other\" if x==\"Select\" else x)\n",
    "df['How did you hear about X Education'].describe()"
   ]
  },
  {
   "cell_type": "code",
   "execution_count": null,
   "metadata": {},
   "outputs": [],
   "source": [
    "# lets plot it\n",
    "sns.countplot(df['How did you hear about X Education'])\n",
    "xticks(rotation=90)\n",
    "plt.show()"
   ]
  },
  {
   "cell_type": "code",
   "execution_count": null,
   "metadata": {},
   "outputs": [],
   "source": [
    "# Lets impute with \"Online Search\"\n",
    "df['How did you hear about X Education']= df['How did you hear about X Education'].fillna(\"Online Search\")\n",
    "df['How did you hear about X Education'].isnull().sum()"
   ]
  },
  {
   "attachments": {},
   "cell_type": "markdown",
   "metadata": {},
   "source": [
    "#### lets do with What is your current occupation"
   ]
  },
  {
   "cell_type": "code",
   "execution_count": null,
   "metadata": {},
   "outputs": [],
   "source": [
    "#check Statistical description\n",
    "df['What is your current occupation'].describe()"
   ]
  },
  {
   "cell_type": "code",
   "execution_count": null,
   "metadata": {},
   "outputs": [],
   "source": [
    "#values of that column\n",
    "df['What is your current occupation'].value_counts()"
   ]
  },
  {
   "cell_type": "code",
   "execution_count": null,
   "metadata": {},
   "outputs": [],
   "source": [
    "#plot it\n",
    "sns.countplot(df['What is your current occupation'])\n",
    "xticks(rotation=90)\n",
    "plt.show()"
   ]
  },
  {
   "cell_type": "code",
   "execution_count": null,
   "metadata": {},
   "outputs": [],
   "source": [
    "# lets impute with Unemployed\n",
    "df['What is your current occupation'] = df['What is your current occupation'].fillna(\"Unemployed\")\n",
    "df['What is your current occupation'].isnull().sum()"
   ]
  },
  {
   "attachments": {},
   "cell_type": "markdown",
   "metadata": {},
   "source": [
    "#### Lets do with What matters most to you in choosing a course"
   ]
  },
  {
   "cell_type": "code",
   "execution_count": null,
   "metadata": {},
   "outputs": [],
   "source": [
    "#check statistical description\n",
    "df['What matters most to you in choosing a course'].describe()"
   ]
  },
  {
   "cell_type": "code",
   "execution_count": null,
   "metadata": {},
   "outputs": [],
   "source": [
    "#check values\n",
    "df['What matters most to you in choosing a course'].value_counts()"
   ]
  },
  {
   "cell_type": "code",
   "execution_count": null,
   "metadata": {},
   "outputs": [],
   "source": [
    "#plot it\n",
    "sns.countplot(df['What matters most to you in choosing a course'])\n",
    "xticks(rotation=90)\n",
    "plt.show()"
   ]
  },
  {
   "cell_type": "code",
   "execution_count": null,
   "metadata": {},
   "outputs": [],
   "source": [
    "# lets impute with \"Better Carrer Prospects\"\n",
    "df['What matters most to you in choosing a course']= df['What matters most to you in choosing a course'].fillna('Better Career Prospects')\n",
    "df['What matters most to you in choosing a course'].isnull().sum()"
   ]
  },
  {
   "cell_type": "code",
   "execution_count": null,
   "metadata": {},
   "outputs": [],
   "source": [
    "# 99% data from Better Career Prospective so we can remove this column also\n",
    "dropcols.append('What matters most to you in choosing a course')"
   ]
  },
  {
   "attachments": {},
   "cell_type": "markdown",
   "metadata": {},
   "source": [
    "#### Lets do with Tags"
   ]
  },
  {
   "cell_type": "code",
   "execution_count": null,
   "metadata": {},
   "outputs": [],
   "source": [
    "#check statistical description\n",
    "df.Tags.describe()"
   ]
  },
  {
   "cell_type": "code",
   "execution_count": null,
   "metadata": {},
   "outputs": [],
   "source": [
    "# lets plot this\n",
    "sns.countplot(df.Tags)\n",
    "xticks(rotation=90)\n",
    "plt.show()"
   ]
  },
  {
   "cell_type": "code",
   "execution_count": null,
   "metadata": {},
   "outputs": [],
   "source": [
    "#check values count\n",
    "df.Tags.value_counts()"
   ]
  },
  {
   "cell_type": "code",
   "execution_count": null,
   "metadata": {},
   "outputs": [],
   "source": [
    "# Replace those are having low frequency or not used to others tag category\n",
    "df.Tags= df.Tags.replace([\"Already a student\", \"switched off\", \"Lost to EINS\", \"Not doing further education\",\n",
    "\"Interested  in full time MBA\",\"Graduation in progress\",\"invalid number\",\"Diploma holder (Not Eligible)\",\n",
    "\"wrong number given\", \"opp hangup\",\"number not provided\",\"in touch with EINS\",\"Lost to Others\",\n",
    "\"Still Thinking\", \"Want to take admission but has financial problems\", \"In confusion whether part time or DLP\",\n",
    "\"Interested in Next batch\",\"Lateral student\", \"Shall take in the next coming month\",\"University not recognized\",\n",
    "\"Recognition issue (DEC approval)\"], \"Others\")"
   ]
  },
  {
   "cell_type": "code",
   "execution_count": null,
   "metadata": {},
   "outputs": [],
   "source": [
    "# Lets impute this with Will revert after reading the email\n",
    "df.Tags= df.Tags.fillna(\"Will revert after reading the email\")\n",
    "df.Tags.isnull().sum()"
   ]
  },
  {
   "attachments": {},
   "cell_type": "markdown",
   "metadata": {},
   "source": [
    "#### Lets do with Lead Profile"
   ]
  },
  {
   "cell_type": "code",
   "execution_count": null,
   "metadata": {},
   "outputs": [],
   "source": [
    "#check statistical description\n",
    "df['Lead Profile'].describe()"
   ]
  },
  {
   "cell_type": "code",
   "execution_count": null,
   "metadata": {},
   "outputs": [],
   "source": [
    "#Replace select with null\n",
    "df['Lead Profile']= df['Lead Profile'].apply(lambda x : np.nan if x==\"Select\" else x)\n",
    "df['Lead Profile'].describe()"
   ]
  },
  {
   "cell_type": "code",
   "execution_count": null,
   "metadata": {},
   "outputs": [],
   "source": [
    "# lets plot this\n",
    "sns.countplot(df['Lead Profile'])\n",
    "xticks(rotation=90)\n",
    "plt.show()"
   ]
  },
  {
   "cell_type": "code",
   "execution_count": null,
   "metadata": {},
   "outputs": [],
   "source": [
    "#Lets impute with Potential Lead with mod\n",
    "df['Lead Profile']= df['Lead Profile'].fillna(\"Potential Lead\")\n",
    "df['Lead Profile'].isnull().sum()"
   ]
  },
  {
   "attachments": {},
   "cell_type": "markdown",
   "metadata": {},
   "source": [
    "#### Lets do with City"
   ]
  },
  {
   "cell_type": "code",
   "execution_count": null,
   "metadata": {},
   "outputs": [],
   "source": [
    "#check statistical description\n",
    "df.City.describe()"
   ]
  },
  {
   "cell_type": "code",
   "execution_count": null,
   "metadata": {},
   "outputs": [],
   "source": [
    "#replace select with null\n",
    "df['City']= df['City'].apply(lambda x : np.nan if x==\"Select\" else x)\n",
    "df['City'].describe()"
   ]
  },
  {
   "cell_type": "code",
   "execution_count": null,
   "metadata": {},
   "outputs": [],
   "source": [
    "#lets plot it\n",
    "sns.countplot(df.City)\n",
    "xticks(rotation=90)\n",
    "plt.show()"
   ]
  },
  {
   "cell_type": "code",
   "execution_count": null,
   "metadata": {},
   "outputs": [],
   "source": [
    "# Lets impute with Mumbai\n",
    "df.City= df.City.fillna(\"Mumbai\")\n",
    "df.City.isnull().sum()"
   ]
  },
  {
   "attachments": {},
   "cell_type": "markdown",
   "metadata": {},
   "source": [
    "#### Check any missing values are there"
   ]
  },
  {
   "cell_type": "code",
   "execution_count": null,
   "metadata": {},
   "outputs": [],
   "source": [
    "# lets check for remaining columns\n",
    "#again  Checking the percentage of missing values\n",
    "missing_data=round(100*(df.isnull().sum()/len(df.index)), 2)\n",
    "#check those are having missing percentage\n",
    "missing_data[missing_data>0.00]"
   ]
  },
  {
   "attachments": {},
   "cell_type": "markdown",
   "metadata": {},
   "source": [
    "#### Check Oultliers"
   ]
  },
  {
   "cell_type": "code",
   "execution_count": null,
   "metadata": {},
   "outputs": [],
   "source": [
    "#divide in Categorical and Continuous columns\n",
    "categorical_cols=[\"Lead Origin\",\"Lead Source\",\"Do Not Email\",\"Do Not Call\",\"Last Activity\",\"Country\",\"Specialization\",\n",
    "                  \"How did you hear about X Education\",\"What is your current occupation\",\n",
    "                  \"What matters most to you in choosing a course\",\n",
    "                  \"Search\",\"Magazine\",\"Newspaper Article\",\"X Education Forums\",\"Newspaper\",\n",
    "                  \"Digital Advertisement\",\"Through Recommendations\",\"Receive More Updates About Our Courses\",\"Tags\"\n",
    "                  ,\"Update me on Supply Chain Content\",\"Get updates on DM Content\",\"Lead Profile\",\"City\",\n",
    "                  \"Last Notable Activity\", \"I agree to pay the amount through cheque\",\n",
    "                  \"A free copy of Mastering The Interview\"]\n",
    "continuous_cols=[\"Lead Number\",\"TotalVisits\",\"Total Time Spent on Website\",\"Page Views Per Visit\"]\n",
    "target_col=[\"Converted\"]"
   ]
  },
  {
   "cell_type": "code",
   "execution_count": null,
   "metadata": {},
   "outputs": [],
   "source": [
    "# boxplot to check outliers\n",
    "cols = 2\n",
    "rows = 2\n",
    "num_cols = continuous_cols \n",
    "fig = plt.figure(figsize= (15,9))\n",
    "for i, col in enumerate(num_cols):\n",
    "    \n",
    "    ax=fig.add_subplot( rows, cols, i+1)\n",
    "    \n",
    "    sns.boxplot(x=df[col], ax=ax)\n",
    "    \n",
    "fig.tight_layout()  \n",
    "plt.show()"
   ]
  },
  {
   "attachments": {},
   "cell_type": "markdown",
   "metadata": {},
   "source": [
    "- As per boxplot, TotalVisits and PageViewPerVisit having outliers\n",
    "- lets check percentile of this"
   ]
  },
  {
   "cell_type": "code",
   "execution_count": null,
   "metadata": {},
   "outputs": [],
   "source": [
    "# totalVisits and cap it\n",
    "q25,q75, q90, q95,q99, q100 =np.percentile(df['TotalVisits'],[25,75,90, 95,99,100])\n",
    "inter_qtr= q75-q25\n",
    "max = q75+(1.5*inter_qtr)\n",
    "min = q25-(1.5*inter_qtr)\n",
    "# cap the min and max values\n",
    "df['TotalVisits'][df['TotalVisits']<min]=min\n",
    "df['TotalVisits'][df['TotalVisits']>max]=max"
   ]
  },
  {
   "cell_type": "code",
   "execution_count": null,
   "metadata": {},
   "outputs": [],
   "source": [
    "# Page Views Per Visit and cap it\n",
    "q25,q75, q90, q95,q99, q100 =np.percentile(df['Page Views Per Visit'],[25,75,90, 95,99,100])\n",
    "inter_qtr= q75-q25\n",
    "max = q75+(1.5*inter_qtr)\n",
    "min = q25-(1.5*inter_qtr)\n",
    "# cap the min and max values\n",
    "df['Page Views Per Visit'][df['Page Views Per Visit']<min]=min\n",
    "df['Page Views Per Visit'][df['Page Views Per Visit']>max]=max"
   ]
  },
  {
   "cell_type": "code",
   "execution_count": null,
   "metadata": {},
   "outputs": [],
   "source": [
    "# plot again to check outliers\n",
    "cols = 2\n",
    "rows = 2\n",
    "num_cols = continuous_cols  \n",
    "fig = plt.figure(figsize= (15,9))\n",
    "for i, col in enumerate(num_cols):\n",
    "    \n",
    "    ax=fig.add_subplot( rows, cols, i+1)\n",
    "    \n",
    "    sns.boxplot(x=df[col], ax=ax)\n",
    "    \n",
    "fig.tight_layout()  \n",
    "plt.show()"
   ]
  },
  {
   "attachments": {},
   "cell_type": "markdown",
   "metadata": {},
   "source": [
    "#### Exploratary Data Analysis"
   ]
  },
  {
   "attachments": {},
   "cell_type": "markdown",
   "metadata": {},
   "source": [
    "##### Uni-Variate Data Analysis"
   ]
  },
  {
   "cell_type": "code",
   "execution_count": null,
   "metadata": {},
   "outputs": [],
   "source": [
    "#plot it\n",
    "cols = 2\n",
    "rows = 2\n",
    "colss = [\"Lead Origin\",\"Lead Source\",\"Do Not Email\",\"Do Not Call\"] \n",
    "fig = plt.figure(figsize= (15,9))\n",
    "for i, col in enumerate(colss):   \n",
    "    ax=fig.add_subplot( rows, cols, i+1)    \n",
    "    sns.countplot(x=df[col], ax=ax)\n",
    "    xticks(rotation=90)\n",
    "    \n",
    "fig.tight_layout()  \n",
    "plt.show()"
   ]
  },
  {
   "cell_type": "code",
   "execution_count": null,
   "metadata": {},
   "outputs": [],
   "source": [
    "# Lead Source\n",
    "df['Lead Source'].value_counts()"
   ]
  },
  {
   "cell_type": "code",
   "execution_count": null,
   "metadata": {},
   "outputs": [],
   "source": [
    "# Combining low frequency values in other category in lead source\n",
    "df['Lead Source']= df['Lead Source'].replace([\"Facebook\",\"bing\", \"Click2call\", \"Press_Release\", \"Social Media\", \n",
    "\"Live Chat\",\"youtubechannel\", \"testone\", \"Pay per Click Ads\", \"welearnblog_Home\", \"WeLearn\", \"blog\", \"NC_EDM\"], \"Others\")\n",
    "df['Lead Source']= df['Lead Source'].replace(\"google\", \"Google\")\n"
   ]
  },
  {
   "cell_type": "code",
   "execution_count": null,
   "metadata": {},
   "outputs": [],
   "source": [
    "#plot categorical data\n",
    "cols = 2\n",
    "rows = 2\n",
    "colss = [\"Last Activity\",\"Country\",\"Specialization\", \"How did you hear about X Education\"] \n",
    "fig = plt.figure(figsize= (15,9))\n",
    "for i, col in enumerate(colss):   \n",
    "    ax=fig.add_subplot( rows, cols, i+1)    \n",
    "    sns.countplot(x=df[col], ax=ax)\n",
    "    xticks(rotation=90)\n",
    "    \n",
    "fig.tight_layout()  \n",
    "plt.show()"
   ]
  },
  {
   "cell_type": "code",
   "execution_count": null,
   "metadata": {},
   "outputs": [],
   "source": [
    "#plot categorical data\n",
    "cols = 2\n",
    "rows = 2\n",
    "colss = [\"What is your current occupation\",\"What matters most to you in choosing a course\",\"Search\",\"Magazine\"] \n",
    "fig = plt.figure(figsize= (15,9))\n",
    "for i, col in enumerate(colss):   \n",
    "    ax=fig.add_subplot( rows, cols, i+1)    \n",
    "    sns.countplot(x=df[col], ax=ax)\n",
    "    xticks(rotation=90)\n",
    "    \n",
    "fig.tight_layout()  \n",
    "plt.show()"
   ]
  },
  {
   "cell_type": "code",
   "execution_count": null,
   "metadata": {},
   "outputs": [],
   "source": [
    "#plot categorical data\n",
    "cols = 2\n",
    "rows = 2\n",
    "colss = [\"Newspaper Article\",\"X Education Forums\",\"Newspaper\", \"Digital Advertisement\"] \n",
    "fig = plt.figure(figsize= (15,9))\n",
    "for i, col in enumerate(colss):   \n",
    "    ax=fig.add_subplot( rows, cols, i+1)    \n",
    "    sns.countplot(x=df[col], ax=ax)\n",
    "    xticks(rotation=90)\n",
    "    \n",
    "fig.tight_layout()  \n",
    "plt.show()"
   ]
  },
  {
   "cell_type": "code",
   "execution_count": null,
   "metadata": {},
   "outputs": [],
   "source": [
    "#plot categorical data\n",
    "cols = 2\n",
    "rows = 2\n",
    "colss = [\"Through Recommendations\",\"Receive More Updates About Our Courses\",\"Tags\",\"Update me on Supply Chain Content\"] \n",
    "fig = plt.figure(figsize= (15,9))\n",
    "for i, col in enumerate(colss):   \n",
    "    ax=fig.add_subplot( rows, cols, i+1)    \n",
    "    sns.countplot(x=df[col], ax=ax)\n",
    "    xticks(rotation=90)\n",
    "    \n",
    "fig.tight_layout()  \n",
    "plt.show()"
   ]
  },
  {
   "cell_type": "code",
   "execution_count": null,
   "metadata": {},
   "outputs": [],
   "source": [
    "#plot categorical data\n",
    "cols = 2\n",
    "rows = 3\n",
    "colss = [\"Get updates on DM Content\",\"Lead Profile\",\"City\", \"Last Notable Activity\",\"I agree to pay the amount through cheque\",\n",
    "                  \"A free copy of Mastering The Interview\"] \n",
    "fig = plt.figure(figsize= (15,9))\n",
    "for i, col in enumerate(colss):   \n",
    "    ax=fig.add_subplot( rows, cols, i+1)    \n",
    "    sns.countplot(x=df[col], ax=ax)\n",
    "    xticks(rotation=90)\n",
    "    \n",
    "fig.tight_layout()  \n",
    "plt.show()"
   ]
  },
  {
   "attachments": {},
   "cell_type": "markdown",
   "metadata": {},
   "source": [
    "- From Univariate Analysis, it is shown that some columns having only one output, so we can remove that\n",
    "- More Leads are coming from Landing Page submission,Lead Origin .\n",
    "- Most Lead Source are from google.\n",
    "- Do not email and do not not call having one output, so we can remove these as there is no inference from it\n",
    "- Last Activity from Email opened is traced most , as can say that more leads are coming email\n",
    "- Mostly lead are approaching from India\n",
    "- Leads are not choosings specialization, either they dont have in list or they dont want to opt\n",
    "- Most leads are searching online for this X Eductaion\n",
    "- Mostly Unemployed are opting for eductaion\n",
    "- Reason for choosing a course is more for better career prospectus\n",
    "- Ads listed in Search, NEwspaper, Magzine, Newspaper Article, Digital Advertisement,Eductaion forums, Through recommendation cant give any inference so can remove these columns\n",
    "- Tags will revert after reading the email having most lead\n",
    "- Receive more Updates About our course, get updates on DM content, I agree to pay the amount through cheque,a free copy of Mastering The Interview and Update me on supply chain content giving no inference\n",
    "- Potential LEads are from Lead Profile\n",
    "- Mumbai City having most leads\n",
    "- Mostly are done last activity as modified\n"
   ]
  },
  {
   "cell_type": "code",
   "execution_count": null,
   "metadata": {},
   "outputs": [],
   "source": [
    "# Drop Columns which did not get any inference from uni variate analysis\n",
    "df=df.drop(dropcols, axis=1)"
   ]
  },
  {
   "attachments": {},
   "cell_type": "markdown",
   "metadata": {},
   "source": [
    "- Bi Variate Analysis"
   ]
  },
  {
   "cell_type": "code",
   "execution_count": null,
   "metadata": {},
   "outputs": [],
   "source": [
    "# Bivariate analysis on continuous column\n",
    "plt.figure(figsize=(15,9))\n",
    "plt.subplot(2,2,1)\n",
    "sns.boxplot(y='Lead Number', x='Converted', data=df)\n",
    "plt.subplot(2,2,2)\n",
    "sns.boxplot(y='TotalVisits', x='Converted', data=df)\n",
    "plt.subplot(2,2,3)\n",
    "sns.boxplot(y='Total Time Spent on Website', x='Converted', data=df)\n",
    "plt.subplot(2,2,4)\n",
    "sns.boxplot(y='Page Views Per Visit',x='Converted', data=df)\n",
    "plt.show()"
   ]
  },
  {
   "cell_type": "code",
   "execution_count": null,
   "metadata": {},
   "outputs": [],
   "source": [
    "categorical_cols=[\"Lead Origin\",\"Lead Source\",\"Last Activity\",\"Country\",\"Specialization\",\n",
    "                  \"How did you hear about X Education\",\"What is your current occupation\",\n",
    "                  \"What matters most to you in choosing a course\",\n",
    "                  \"Tags\",\"Lead Profile\",\"City\",\"Last Notable Activity\"]"
   ]
  },
  {
   "cell_type": "code",
   "execution_count": null,
   "metadata": {},
   "outputs": [],
   "source": [
    "rows=2\n",
    "cols=2\n",
    "columns=[\"Lead Origin\",\"Lead Source\",\"Last Activity\"]\n",
    "fig= plt.figure(figsize=(15,9))\n",
    "for i, coll in enumerate(columns):\n",
    "    ax= fig.add_subplot(rows, cols, i+1)\n",
    "    sns.countplot(x=coll, hue=\"Converted\", data=df)\n",
    "    xticks(rotation=90)\n",
    "fig.tight_layout()\n",
    "plt.show()\n",
    "\n"
   ]
  },
  {
   "cell_type": "code",
   "execution_count": null,
   "metadata": {},
   "outputs": [],
   "source": [
    "rows=2\n",
    "cols=2\n",
    "columns=[\"Specialization\",\"How did you hear about X Education\",\"What is your current occupation\"]\n",
    "fig= plt.figure(figsize=(15,9))\n",
    "for i, coll in enumerate(columns):\n",
    "    ax= fig.add_subplot(rows, cols, i+1)\n",
    "    sns.countplot(x=coll, hue=\"Converted\", data=df)\n",
    "    xticks(rotation=90)\n",
    "fig.tight_layout()\n",
    "plt.show()"
   ]
  },
  {
   "cell_type": "code",
   "execution_count": null,
   "metadata": {},
   "outputs": [],
   "source": [
    "\n",
    "rows=2\n",
    "cols=2\n",
    "columns=[\"Tags\",\"Lead Profile\",\"City\",\"Last Notable Activity\"]\n",
    "fig= plt.figure(figsize=(15,9))\n",
    "for i, coll in enumerate(columns):\n",
    "    ax= fig.add_subplot(rows, cols, i+1)\n",
    "    sns.countplot(x=coll, hue=\"Converted\", data=df)\n",
    "    xticks(rotation=90)\n",
    "fig.tight_layout()\n",
    "plt.show()"
   ]
  },
  {
   "attachments": {},
   "cell_type": "markdown",
   "metadata": {},
   "source": [
    "- More converted Leads are coming from Landing Page submission,Lead Origin \n",
    "- Most converted Lead Source are from Google\n",
    "- Most Converted Leads are coming from Last Activity from SMS sent\n",
    "- Converted Leads are not choosings specialization, either they dont have in list or they dont want to opt\n",
    "- Most Converted leads are searching online for this X Eductaion\n",
    "- Most Converted Unemployed are opting for eductaion\n",
    "- Tags will revert after reading the email having most converted lead\n",
    "- Potential Leads are from Lead Profile\n",
    "- Mumbai City having most converted leads\n",
    "- Converted Leads mostly are done last activity as SMS Sent\n",
    "- 50 percentile for Lead Number for Converted and non- Converted are almost same, so cant \n",
    "get any inferences, we can remove this column\n",
    "- 50 percentile for TotatVisits for Converted and non- Converted are \n",
    "almost same, so cant get any inferences, although converted leads having more counts\n",
    "- 50 percentile for Page View per Visit for Converted and non- Converted are \n",
    "almost same, so cant get any inferences, although converted leads having more counts\n",
    "- Total Time spent on Website having more converted leads"
   ]
  },
  {
   "cell_type": "code",
   "execution_count": null,
   "metadata": {},
   "outputs": [],
   "source": [
    "df.drop(\"Lead Number\", inplace=True, axis=1)"
   ]
  },
  {
   "cell_type": "code",
   "execution_count": null,
   "metadata": {},
   "outputs": [],
   "source": [
    "df.drop(\"Prospect ID\", inplace=True, axis=1)"
   ]
  },
  {
   "attachments": {},
   "cell_type": "markdown",
   "metadata": {},
   "source": [
    "#### Multivariate Analysis"
   ]
  },
  {
   "cell_type": "code",
   "execution_count": null,
   "metadata": {},
   "outputs": [],
   "source": [
    "continuous_cols=[\"TotalVisits\",\"Total Time Spent on Website\",\"Page Views Per Visit\"]\n",
    "sns.pairplot(df[continuous_cols])\n",
    "plt.show()"
   ]
  },
  {
   "attachments": {},
   "cell_type": "markdown",
   "metadata": {},
   "source": [
    "- Not finding any relation by this"
   ]
  },
  {
   "cell_type": "code",
   "execution_count": 3960,
   "metadata": {},
   "outputs": [
    {
     "data": {
      "text/plain": [
       "<AxesSubplot:>"
      ]
     },
     "execution_count": 3960,
     "metadata": {},
     "output_type": "execute_result"
    },
    {
     "data": {
      "image/png": "[encoded data removed]",
      "text/plain": [
       "<Figure size 640x480 with 2 Axes>"
      ]
     },
     "metadata": {},
     "output_type": "display_data"
    }
   ],
   "source": [
    "#check heatmap\n",
    "sns.heatmap(df.corr(), annot=True)"
   ]
  },
  {
   "attachments": {},
   "cell_type": "markdown",
   "metadata": {},
   "source": [
    "Data Preparation\n",
    "- Convert into binary columns (yes/No to 0/1)"
   ]
  },
  {
   "cell_type": "code",
   "execution_count": null,
   "metadata": {},
   "outputs": [],
   "source": [
    "binary_cols=[\"Do Not Email\",\"Do Not Call\",\"Get updates on DM Content\",\"I agree to pay the amount through cheque\",\n",
    "\"A free copy of Mastering The Interview\",\"Search\",\"Magazine\",\"Newspaper Article\",\"X Education Forums\",\n",
    "\"Newspaper\",\"Update me on Supply Chain Content\",\"Digital Advertisement\",\"Through Recommendations\",\n",
    "\"Receive More Updates About Our Courses\",\"Get updates on DM Content\"]\n",
    "df[binary_cols]= df[binary_cols].apply(lambda x: 1 if str(x).lower()==\"yes\" else 0)"
   ]
  },
  {
   "attachments": {},
   "cell_type": "markdown",
   "metadata": {},
   "source": [
    "#### Creating dummy variables form categorical columns"
   ]
  },
  {
   "cell_type": "code",
   "execution_count": null,
   "metadata": {},
   "outputs": [],
   "source": [
    "# Creating a dummy variable for some of the categorical variables and dropping the first one.\n",
    "dummy= pd.get_dummies(df['Lead Origin'], drop_first=True, prefix=\"Origin_\")\n",
    "dummy_Source= pd.get_dummies(df['Lead Source'], drop_first=True, prefix=\"Source_\")\n",
    "dummy_Activity= pd.get_dummies(df['Last Activity'], drop_first=True, prefix=\"Activity_\")\n",
    "dummy_Specialization= pd.get_dummies(df['Specialization'], drop_first=True, prefix=\"Specialization_\")\n",
    "\n",
    "dummy_Education= pd.get_dummies(df['How did you hear about X Education'], drop_first=True, prefix=\"Education_\")\n",
    "\n",
    "dummy_occupation= pd.get_dummies(df['What is your current occupation'], drop_first=True, prefix=\"occupation_\")\n",
    "dummy_Tags= pd.get_dummies(df['Tags'], drop_first=True, prefix=\"Tags_\")\n",
    "dummy_Profile= pd.get_dummies(df['Lead Profile'], drop_first=True, prefix=\"Profile_\")\n",
    "\n",
    "dummy_City= pd.get_dummies(df['City'], drop_first=True, prefix=\"City_\")\n",
    "dummy_lastActivity= pd.get_dummies(df['Last Notable Activity'], drop_first=True, prefix=\"notableActivity_\")\n",
    "\n"
   ]
  },
  {
   "cell_type": "code",
   "execution_count": null,
   "metadata": {},
   "outputs": [],
   "source": [
    "# contact to main data frame and drop original columns\n",
    "df=pd.concat([df,dummy, dummy_Source, dummy_Activity, dummy_Specialization, dummy_Education, dummy_occupation,\n",
    "           dummy_Tags, dummy_Profile, dummy_City, dummy_lastActivity], axis=1 )\n",
    "df.drop( ['Lead Origin','Lead Source','Last Activity','Specialization','How did you hear about X Education',\n",
    "         'What is your current occupation','Tags', 'Lead Profile','City'\n",
    "         ,'Last Notable Activity'], inplace=True, axis=1)\n",
    "df.head()"
   ]
  },
  {
   "attachments": {},
   "cell_type": "markdown",
   "metadata": {},
   "source": [
    "### Build Model\n",
    "- Test and train split"
   ]
  },
  {
   "cell_type": "code",
   "execution_count": null,
   "metadata": {},
   "outputs": [],
   "source": [
    "# X- independent variable X= df.drop(\"Converted\", axis=1)\n",
    "X.head()"
   ]
  },
  {
   "cell_type": "code",
   "execution_count": null,
   "metadata": {},
   "outputs": [],
   "source": [
    "# y-Dependent Variable\n",
    "y= df[\"Converted\"]\n",
    "y.head()"
   ]
  },
  {
   "cell_type": "code",
   "execution_count": null,
   "metadata": {},
   "outputs": [],
   "source": [
    "#split train and test\n",
    "from sklearn.model_selection import train_test_split\n",
    "X_train, X_test, y_train, y_test = train_test_split(X,y, random_state=100, train_size=.7, test_size=.3)"
   ]
  },
  {
   "attachments": {},
   "cell_type": "markdown",
   "metadata": {},
   "source": [
    "#### Feature Scaling"
   ]
  },
  {
   "cell_type": "code",
   "execution_count": null,
   "metadata": {},
   "outputs": [],
   "source": [
    "# scale the continuous columns\n",
    "from sklearn.preprocessing import StandardScaler\n",
    "standard= StandardScaler()\n",
    "X_train[['TotalVisits', 'Total Time Spent on Website', 'Page Views Per Visit']]= standard.fit_transform(X_train[['TotalVisits', 'Total Time Spent on Website', 'Page Views Per Visit']])\n",
    "X_train.head()\n"
   ]
  },
  {
   "cell_type": "code",
   "execution_count": null,
   "metadata": {},
   "outputs": [],
   "source": [
    "#check the conversion rate\n",
    "Converted_rate=round(sum(df['Converted'])/ len(df['Converted'].index)*100,2)\n",
    "Converted_rate"
   ]
  },
  {
   "attachments": {},
   "cell_type": "markdown",
   "metadata": {},
   "source": [
    "- Converted rate is 38%"
   ]
  },
  {
   "attachments": {},
   "cell_type": "markdown",
   "metadata": {},
   "source": [
    "#### Run First Model"
   ]
  },
  {
   "cell_type": "code",
   "execution_count": null,
   "metadata": {},
   "outputs": [],
   "source": [
    "import statsmodels.api  as sm"
   ]
  },
  {
   "cell_type": "code",
   "execution_count": null,
   "metadata": {},
   "outputs": [],
   "source": [
    "# Run logistic regression model\n",
    "X_train_sm= sm.add_constant(X_train)\n",
    "log1= sm.GLM(y_train, X_train_sm, family=sm.families.Binomial())\n",
    "log1.fit().summary()"
   ]
  },
  {
   "attachments": {},
   "cell_type": "markdown",
   "metadata": {},
   "source": [
    "#### Feature Selection using RFE"
   ]
  },
  {
   "cell_type": "code",
   "execution_count": null,
   "metadata": {},
   "outputs": [],
   "source": [
    "#select features using RFE and Manual\n",
    "from sklearn.linear_model  import LogisticRegression\n",
    "loglog= LogisticRegression()"
   ]
  },
  {
   "cell_type": "code",
   "execution_count": null,
   "metadata": {},
   "outputs": [],
   "source": [
    "from sklearn.feature_selection import RFE\n",
    "rfe= RFE(loglog, n_features_to_select=15, step=1)\n",
    "rfe=rfe.fit(X_train, y_train)"
   ]
  },
  {
   "cell_type": "code",
   "execution_count": null,
   "metadata": {},
   "outputs": [],
   "source": [
    "#check RFE support\n",
    "rfe.support_"
   ]
  },
  {
   "cell_type": "code",
   "execution_count": null,
   "metadata": {},
   "outputs": [],
   "source": [
    "#Zip column, support and ranking\n",
    "list(zip(X_train.columns, rfe.support_, rfe.ranking_))"
   ]
  },
  {
   "cell_type": "code",
   "execution_count": null,
   "metadata": {},
   "outputs": [],
   "source": [
    "#select those columns which are having support true\n",
    "cols= X_train.columns[rfe.support_]"
   ]
  },
  {
   "cell_type": "code",
   "execution_count": null,
   "metadata": {},
   "outputs": [],
   "source": [
    "cols"
   ]
  },
  {
   "cell_type": "code",
   "execution_count": null,
   "metadata": {},
   "outputs": [],
   "source": [
    "#check those having support false\n",
    "X_train.columns[~rfe.support_]"
   ]
  },
  {
   "attachments": {},
   "cell_type": "markdown",
   "metadata": {},
   "source": [
    "#### Assessing the statsmodel"
   ]
  },
  {
   "cell_type": "code",
   "execution_count": null,
   "metadata": {},
   "outputs": [],
   "source": [
    "#again run logistic regression using selected columns\n",
    "X_train_sm=sm.add_constant(X_train[cols])\n",
    "log1= sm.GLM(y_train, X_train_sm, family=sm.families.Binomial())\n",
    "res=log1.fit()\n",
    "res.summary()"
   ]
  },
  {
   "attachments": {},
   "cell_type": "markdown",
   "metadata": {},
   "source": [
    "check VIFs"
   ]
  },
  {
   "cell_type": "code",
   "execution_count": null,
   "metadata": {},
   "outputs": [],
   "source": [
    "# Check for the VIF values \n",
    "from statsmodels.stats.outliers_influence import variance_inflation_factor"
   ]
  },
  {
   "cell_type": "code",
   "execution_count": null,
   "metadata": {},
   "outputs": [],
   "source": [
    "vif = pd.DataFrame()\n",
    "vif['Features'] = X_train[cols].columns\n",
    "vif['VIF'] = [variance_inflation_factor(X_train[cols].values, i) for i in range(X_train[cols].shape[1])]\n",
    "vif['VIF'] = round(vif['VIF'], 2)\n",
    "vif = vif.sort_values(by = \"VIF\", ascending = False)\n",
    "vif"
   ]
  },
  {
   "cell_type": "code",
   "execution_count": null,
   "metadata": {},
   "outputs": [],
   "source": [
    "# Getting the predicted values on the train set\n",
    "y_train_pred= res.predict(X_train_sm)\n",
    "y_train_pred[:10]"
   ]
  },
  {
   "cell_type": "code",
   "execution_count": null,
   "metadata": {},
   "outputs": [],
   "source": [
    "#reshape it\n",
    "y_train_pred = y_train_pred.values.reshape(-1)\n",
    "y_train_pred[:10]"
   ]
  },
  {
   "attachments": {},
   "cell_type": "markdown",
   "metadata": {},
   "source": [
    "##### Creating a dataframe with the actual converted flag and the predicted probabilities"
   ]
  },
  {
   "cell_type": "code",
   "execution_count": null,
   "metadata": {},
   "outputs": [],
   "source": [
    "#create rataframe and find probability\n",
    "y_train_pred_final= pd.DataFrame({'Converted': y_train.values, 'Converted_prob': y_train_pred})\n",
    "y_train_pred_final[\"Lead_Id\"]= y_train.index\n",
    "y_train_pred_final.head()"
   ]
  },
  {
   "cell_type": "code",
   "execution_count": null,
   "metadata": {},
   "outputs": [],
   "source": [
    "#predict the value\n",
    "y_train_pred_final['Predicted']= y_train_pred_final.Converted_prob.apply(lambda x: 1 if x>0.5 else 0)\n",
    "y_train_pred_final.head()"
   ]
  },
  {
   "cell_type": "code",
   "execution_count": null,
   "metadata": {},
   "outputs": [],
   "source": [
    "from sklearn import metrics"
   ]
  },
  {
   "cell_type": "code",
   "execution_count": null,
   "metadata": {},
   "outputs": [],
   "source": [
    "# Print confusion matrix\n",
    "confusion= metrics.confusion_matrix(y_train_pred_final.Converted, y_train_pred_final.Predicted)\n",
    "print(confusion)"
   ]
  },
  {
   "cell_type": "code",
   "execution_count": null,
   "metadata": {},
   "outputs": [],
   "source": [
    "# Predicted     not_converted    convert\n",
    "# Actual\n",
    "# not_convert        3733         172\n",
    "# convert            589          1857  "
   ]
  },
  {
   "cell_type": "code",
   "execution_count": null,
   "metadata": {},
   "outputs": [],
   "source": [
    "#check accuracy on train data\n",
    "print(metrics.accuracy_score(y_train_pred_final.Converted, y_train_pred_final.Predicted))"
   ]
  },
  {
   "attachments": {},
   "cell_type": "markdown",
   "metadata": {},
   "source": [
    "Accuracy Score is 88%"
   ]
  },
  {
   "attachments": {},
   "cell_type": "markdown",
   "metadata": {},
   "source": [
    "### Metrics beyond simply accuracy"
   ]
  },
  {
   "cell_type": "code",
   "execution_count": null,
   "metadata": {},
   "outputs": [],
   "source": [
    "TP= confusion[1,1] # True Positive\n",
    "TN= confusion[0,0] #true Negatives\n",
    "FP= confusion[0,1] #False Positive\n",
    "FN= confusion[1,0] #False Negative"
   ]
  },
  {
   "cell_type": "code",
   "execution_count": null,
   "metadata": {},
   "outputs": [],
   "source": [
    "# Let's see the sensitivity of our logistic regression model\n",
    "print(TP / float(TP+FN))"
   ]
  },
  {
   "attachments": {},
   "cell_type": "markdown",
   "metadata": {},
   "source": [
    "Sensitivity is 84%"
   ]
  },
  {
   "cell_type": "code",
   "execution_count": null,
   "metadata": {},
   "outputs": [],
   "source": [
    "# Let us calculate specificity\n",
    "print(TN / float(TN+FP))"
   ]
  },
  {
   "attachments": {},
   "cell_type": "markdown",
   "metadata": {},
   "source": [
    "Specificity is 91%"
   ]
  },
  {
   "cell_type": "code",
   "execution_count": null,
   "metadata": {},
   "outputs": [],
   "source": [
    "# Calculate false postive rate - predicting converted when customer does not have converted to lead\n",
    "print(FP/ float(TN+FP))"
   ]
  },
  {
   "cell_type": "code",
   "execution_count": null,
   "metadata": {},
   "outputs": [],
   "source": [
    "# positive predictive value \n",
    "print (TP / float(TP+FP))"
   ]
  },
  {
   "cell_type": "code",
   "execution_count": null,
   "metadata": {},
   "outputs": [],
   "source": [
    "# Negative predictive value\n",
    "print (TN / float(TN+ FN))"
   ]
  },
  {
   "attachments": {},
   "cell_type": "markdown",
   "metadata": {},
   "source": [
    "### Plotting the ROC Curve"
   ]
  },
  {
   "cell_type": "code",
   "execution_count": null,
   "metadata": {},
   "outputs": [],
   "source": [
    "def draw_roc( actual, probs ):\n",
    "    fpr, tpr, thresholds = metrics.roc_curve( actual, probs,\n",
    "                                              drop_intermediate = False )\n",
    "    auc_score = metrics.roc_auc_score( actual, probs )\n",
    "    plt.figure(figsize=(5, 5))\n",
    "    plt.plot( fpr, tpr, label='ROC curve (area = %0.2f)' % auc_score )\n",
    "    plt.plot([0, 1], [0, 1], 'k--')\n",
    "    plt.xlim([0.0, 1.0])\n",
    "    plt.ylim([0.0, 1.05])\n",
    "    plt.xlabel('False Positive Rate or [1 - True Negative Rate]')\n",
    "    plt.ylabel('True Positive Rate')\n",
    "    plt.title('Receiver operating characteristic example')\n",
    "    plt.legend(loc=\"lower right\")\n",
    "    plt.show()\n",
    "\n",
    "    return None"
   ]
  },
  {
   "cell_type": "code",
   "execution_count": null,
   "metadata": {},
   "outputs": [],
   "source": [
    "#plot ROC curve\n",
    "fpr, tpr, thresholds = metrics.roc_curve( y_train_pred_final.Converted, y_train_pred_final.Converted_prob, drop_intermediate = False )\n",
    "draw_roc(y_train_pred_final.Converted, y_train_pred_final.Converted_prob)"
   ]
  },
  {
   "attachments": {},
   "cell_type": "markdown",
   "metadata": {},
   "source": [
    "### Step 10: Finding Optimal Cutoff Point\n",
    "- Optimal cutoff probability is that prob where we get balanced sensitivity and specificity"
   ]
  },
  {
   "cell_type": "code",
   "execution_count": null,
   "metadata": {},
   "outputs": [],
   "source": [
    "# Let's create columns with different probability cutoffs \n",
    "numbers = [float(x)/10 for x in range(10)]\n",
    "for i in numbers:\n",
    "    y_train_pred_final[i]= y_train_pred_final.Converted_prob.map(lambda x: 1 if x > i else 0)\n",
    "y_train_pred_final.head()"
   ]
  },
  {
   "cell_type": "code",
   "execution_count": null,
   "metadata": {},
   "outputs": [],
   "source": [
    "# Now let's calculate accuracy sensitivity and specificity for various probability cutoffs.\n",
    "cutoff_df = pd.DataFrame( columns = ['prob','accuracy','sensi','speci'])\n",
    "from sklearn.metrics import confusion_matrix\n",
    "\n",
    "# TP = confusion[1,1] # true positive \n",
    "# TN = confusion[0,0] # true negatives\n",
    "# FP = confusion[0,1] # false positives\n",
    "# FN = confusion[1,0] # false negatives\n",
    "\n",
    "num = [0.0,0.1,0.2,0.3,0.4,0.5,0.6,0.7,0.8,0.9]\n",
    "for i in num:\n",
    "    cm1 = metrics.confusion_matrix(y_train_pred_final.Converted, y_train_pred_final[i] )\n",
    "    total1=sum(sum(cm1))\n",
    "    accuracy = (cm1[0,0]+cm1[1,1])/total1\n",
    "    \n",
    "    speci = cm1[0,0]/(cm1[0,0]+cm1[0,1])\n",
    "    sensi = cm1[1,1]/(cm1[1,0]+cm1[1,1])\n",
    "    cutoff_df.loc[i] =[ i ,accuracy,sensi,speci]\n",
    "print(cutoff_df)"
   ]
  },
  {
   "cell_type": "code",
   "execution_count": null,
   "metadata": {},
   "outputs": [],
   "source": [
    "# Let's plot accuracy sensitivity and specificity for various probabilities.\n",
    "cutoff_df.plot.line(x='prob', y=['accuracy','sensi','speci'])\n",
    "plt.show()"
   ]
  },
  {
   "attachments": {},
   "cell_type": "markdown",
   "metadata": {},
   "source": [
    "#### From the curve above, 0.3 is the optimum point to take it as a cutoff probability."
   ]
  },
  {
   "cell_type": "code",
   "execution_count": null,
   "metadata": {},
   "outputs": [],
   "source": [
    "# final predicted using optimal cutoff\n",
    "y_train_pred_final['final_predicted'] = y_train_pred_final.Converted_prob.map( lambda x: 1 if x > 0.3 else 0)\n",
    "y_train_pred_final.head()"
   ]
  },
  {
   "attachments": {},
   "cell_type": "markdown",
   "metadata": {},
   "source": [
    "### Calculate Lead Score"
   ]
  },
  {
   "cell_type": "code",
   "execution_count": null,
   "metadata": {},
   "outputs": [],
   "source": [
    "#calculate lead Score\n",
    "y_train_pred_final['LeadScore'] = y_train_pred_final.Converted_prob.map( lambda x: round(x*100))\n",
    "\n",
    "y_train_pred_final.head()"
   ]
  },
  {
   "cell_type": "code",
   "execution_count": null,
   "metadata": {},
   "outputs": [],
   "source": [
    "# Let's check the overall accuracy.\n",
    "metrics.accuracy_score(y_train_pred_final.Converted, y_train_pred_final.final_predicted)"
   ]
  },
  {
   "cell_type": "code",
   "execution_count": null,
   "metadata": {},
   "outputs": [],
   "source": [
    "confusion2 = metrics.confusion_matrix(y_train_pred_final.Converted, y_train_pred_final.final_predicted )\n",
    "confusion2"
   ]
  },
  {
   "cell_type": "code",
   "execution_count": null,
   "metadata": {},
   "outputs": [],
   "source": [
    "TP = confusion2[1,1] # true positive \n",
    "TN = confusion2[0,0] # true negatives\n",
    "FP = confusion2[0,1] # false positives\n",
    "FN = confusion2[1,0] # false negatives"
   ]
  },
  {
   "cell_type": "code",
   "execution_count": null,
   "metadata": {},
   "outputs": [],
   "source": [
    "# Let's see the sensitivity of our logistic regression model\n",
    "TP / float(TP+FN)"
   ]
  },
  {
   "cell_type": "code",
   "execution_count": null,
   "metadata": {},
   "outputs": [],
   "source": [
    "# Let us calculate specificity\n",
    "TN / float(TN+FP)"
   ]
  },
  {
   "cell_type": "code",
   "execution_count": null,
   "metadata": {},
   "outputs": [],
   "source": [
    "# Calculate false postive rate - predicting churn when customer does not have churned\n",
    "print(FP/ float(TN+FP))"
   ]
  },
  {
   "cell_type": "code",
   "execution_count": null,
   "metadata": {},
   "outputs": [],
   "source": [
    "# Positive predictive value \n",
    "print (TP / float(TP+FP))"
   ]
  },
  {
   "cell_type": "code",
   "execution_count": null,
   "metadata": {},
   "outputs": [],
   "source": [
    "# Negative predictive value\n",
    "print (TN / float(TN+ FN))"
   ]
  },
  {
   "attachments": {},
   "cell_type": "markdown",
   "metadata": {},
   "source": [
    "### Precision and Recall"
   ]
  },
  {
   "cell_type": "code",
   "execution_count": null,
   "metadata": {},
   "outputs": [],
   "source": [
    "confusion = metrics.confusion_matrix(y_train_pred_final.Converted, y_train_pred_final.Predicted )\n",
    "confusion"
   ]
  },
  {
   "cell_type": "code",
   "execution_count": null,
   "metadata": {},
   "outputs": [],
   "source": [
    "TP = confusion[1,1] # true positive \n",
    "TN = confusion[0,0] # true negatives\n",
    "FP = confusion[0,1] # false positives\n",
    "FN = confusion[1,0] # false negatives"
   ]
  },
  {
   "cell_type": "code",
   "execution_count": null,
   "metadata": {},
   "outputs": [],
   "source": [
    "# Precision\n",
    "print(TP / (TP + FP))"
   ]
  },
  {
   "cell_type": "code",
   "execution_count": null,
   "metadata": {},
   "outputs": [],
   "source": [
    "# Recall\n",
    "print(TP /( TP + FN))"
   ]
  },
  {
   "cell_type": "code",
   "execution_count": null,
   "metadata": {},
   "outputs": [],
   "source": [
    "from sklearn.metrics import precision_score,recall_score"
   ]
  },
  {
   "cell_type": "code",
   "execution_count": null,
   "metadata": {},
   "outputs": [],
   "source": [
    "#check precision\n",
    "precision_score(y_train_pred_final.Converted, y_train_pred_final.Predicted)"
   ]
  },
  {
   "cell_type": "code",
   "execution_count": null,
   "metadata": {},
   "outputs": [],
   "source": [
    "#check recall\n",
    "recall_score(y_train_pred_final.Converted, y_train_pred_final.Predicted)"
   ]
  },
  {
   "attachments": {},
   "cell_type": "markdown",
   "metadata": {},
   "source": [
    "#### Precision and recall tradeoff"
   ]
  },
  {
   "cell_type": "code",
   "execution_count": null,
   "metadata": {},
   "outputs": [],
   "source": [
    "from sklearn.metrics import precision_recall_curve"
   ]
  },
  {
   "cell_type": "code",
   "execution_count": null,
   "metadata": {},
   "outputs": [],
   "source": [
    "y_train_pred_final.Converted, y_train_pred_final.Predicted"
   ]
  },
  {
   "cell_type": "code",
   "execution_count": null,
   "metadata": {},
   "outputs": [],
   "source": [
    "p, r, thresholds = precision_recall_curve(y_train_pred_final.Converted, y_train_pred_final.Converted_prob)\n",
    "plt.plot(thresholds, p[:-1], \"g-\")\n",
    "plt.plot(thresholds, r[:-1], \"r-\")\n",
    "plt.show()"
   ]
  },
  {
   "attachments": {},
   "cell_type": "markdown",
   "metadata": {},
   "source": [
    "Making predictions on the test set"
   ]
  },
  {
   "cell_type": "code",
   "execution_count": null,
   "metadata": {},
   "outputs": [],
   "source": [
    "# Feature Scaling on test data\n",
    "X_test[['TotalVisits', 'Total Time Spent on Website', 'Page Views Per Visit']]= standard.fit_transform(X_test[['TotalVisits', 'Total Time Spent on Website', 'Page Views Per Visit']])\n",
    "X_test= X_test[cols]\n",
    "X_test.head()"
   ]
  },
  {
   "cell_type": "code",
   "execution_count": null,
   "metadata": {},
   "outputs": [],
   "source": [
    "y_test.head()"
   ]
  },
  {
   "cell_type": "code",
   "execution_count": null,
   "metadata": {},
   "outputs": [],
   "source": [
    "# add constant\n",
    "X_test_sm= sm.add_constant(X_test)"
   ]
  },
  {
   "cell_type": "code",
   "execution_count": null,
   "metadata": {},
   "outputs": [],
   "source": [
    "y_test_pred=res.predict(X_test_sm)\n",
    "y_test_pred[:10]"
   ]
  },
  {
   "cell_type": "code",
   "execution_count": null,
   "metadata": {},
   "outputs": [],
   "source": [
    "# Converting y_pred to a dataframe which is an array\n",
    "y_pred_1 = pd.DataFrame(y_test_pred)"
   ]
  },
  {
   "cell_type": "code",
   "execution_count": null,
   "metadata": {},
   "outputs": [],
   "source": [
    "# Let's see the head\n",
    "y_pred_1.head()"
   ]
  },
  {
   "cell_type": "code",
   "execution_count": null,
   "metadata": {},
   "outputs": [],
   "source": [
    "# Converting y_test to dataframe\n",
    "y_test_df = pd.DataFrame(y_test)"
   ]
  },
  {
   "cell_type": "code",
   "execution_count": null,
   "metadata": {},
   "outputs": [],
   "source": [
    "# Putting CustID to index\n",
    "y_test_df['CustID'] = y_test_df.index"
   ]
  },
  {
   "cell_type": "code",
   "execution_count": null,
   "metadata": {},
   "outputs": [],
   "source": [
    "# Removing index for both dataframes to append them side by side \n",
    "y_pred_1.reset_index(drop=True, inplace=True)\n",
    "y_test_df.reset_index(drop=True, inplace=True)"
   ]
  },
  {
   "cell_type": "code",
   "execution_count": null,
   "metadata": {},
   "outputs": [],
   "source": [
    "# Appending y_test_df and y_pred_1\n",
    "y_pred_final = pd.concat([y_test_df, y_pred_1],axis=1)"
   ]
  },
  {
   "cell_type": "code",
   "execution_count": null,
   "metadata": {},
   "outputs": [],
   "source": [
    "y_pred_final.head()"
   ]
  },
  {
   "cell_type": "code",
   "execution_count": null,
   "metadata": {},
   "outputs": [],
   "source": [
    "# Renaming the column \n",
    "y_pred_final= y_pred_final.rename(columns={ 0 : 'Converted_Prob'})"
   ]
  },
  {
   "cell_type": "code",
   "execution_count": null,
   "metadata": {},
   "outputs": [],
   "source": [
    "y_pred_final.head()"
   ]
  },
  {
   "cell_type": "code",
   "execution_count": null,
   "metadata": {},
   "outputs": [],
   "source": [
    "# Rearranging the columns\n",
    "#y_pred_final = y_pred_final.reindex_axis(['CustID','Converted','Converted_Prob'], axis=1)"
   ]
  },
  {
   "cell_type": "code",
   "execution_count": null,
   "metadata": {},
   "outputs": [],
   "source": [
    "# Let's see the head of y_pred_final\n",
    "y_pred_final.head()"
   ]
  },
  {
   "cell_type": "code",
   "execution_count": null,
   "metadata": {},
   "outputs": [],
   "source": [
    "#prediction on test data\n",
    "y_pred_final['final_predicted'] = y_pred_final.Converted_Prob.map(lambda x: 1 if x > 0.3 else 0)"
   ]
  },
  {
   "cell_type": "code",
   "execution_count": null,
   "metadata": {},
   "outputs": [],
   "source": [
    "y_pred_final.head()"
   ]
  },
  {
   "cell_type": "code",
   "execution_count": null,
   "metadata": {},
   "outputs": [],
   "source": [
    "# Let's check the overall accuracy.\n",
    "metrics.accuracy_score(y_pred_final.Converted, y_pred_final.final_predicted)"
   ]
  },
  {
   "cell_type": "code",
   "execution_count": null,
   "metadata": {},
   "outputs": [],
   "source": [
    "confusion2 = metrics.confusion_matrix(y_pred_final.Converted, y_pred_final.final_predicted )\n",
    "confusion2"
   ]
  },
  {
   "cell_type": "code",
   "execution_count": null,
   "metadata": {},
   "outputs": [],
   "source": [
    "TP = confusion2[1,1] # true positive \n",
    "TN = confusion2[0,0] # true negatives\n",
    "FP = confusion2[0,1] # false positives\n",
    "FN = confusion2[1,0] # false negatives\n"
   ]
  },
  {
   "cell_type": "code",
   "execution_count": null,
   "metadata": {},
   "outputs": [],
   "source": [
    "# Let's see the sensitivity of our logistic regression model\n",
    "TP / float(TP+FN)"
   ]
  },
  {
   "cell_type": "code",
   "execution_count": null,
   "metadata": {},
   "outputs": [],
   "source": [
    "# Let us calculate specificity\n",
    "TN / float(TN+FP)"
   ]
  },
  {
   "cell_type": "code",
   "execution_count": null,
   "metadata": {},
   "outputs": [],
   "source": [
    "#check variables that are most potential to convert lead\n",
    "pos = np.arange(sorted_idx.shape[0]) + .5\n",
    "\n",
    "featfig = plt.figure(figsize=(10,6))\n",
    "featax = featfig.add_subplot(1, 1, 1)\n",
    "featax.barh(pos, feature_importance[sorted_idx], align='center', color = 'tab:red',alpha=0.8)\n",
    "featax.set_yticks(pos)\n",
    "featax.set_yticklabels(np.array(X_train[cols].columns)[sorted_idx], fontsize=12)\n",
    "featax.set_xlabel('Relative Feature Importance', fontsize=14)\n",
    "\n",
    "plt.tight_layout()   \n",
    "plt.show()"
   ]
  },
  {
   "cell_type": "code",
   "execution_count": null,
   "metadata": {},
   "outputs": [],
   "source": []
  }
 ],
 "metadata": {
  "kernelspec": {
   "display_name": "base",
   "language": "python",
   "name": "python3"
  },
  "language_info": {
   "codemirror_mode": {
    "name": "ipython",
    "version": 3
   },
   "file_extension": ".py",
   "mimetype": "text/x-python",
   "name": "python",
   "nbconvert_exporter": "python",
   "pygments_lexer": "ipython3",
   "version": "3.9.13"
  },
  "orig_nbformat": 4
 },
 "nbformat": 4,
 "nbformat_minor": 2
}
